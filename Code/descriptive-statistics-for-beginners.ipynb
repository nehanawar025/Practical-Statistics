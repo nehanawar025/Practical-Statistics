{
 "cells": [
  {
   "cell_type": "markdown",
   "id": "3d4b5991",
   "metadata": {
    "papermill": {
     "duration": 0.004826,
     "end_time": "2025-03-25T09:09:25.761260",
     "exception": false,
     "start_time": "2025-03-25T09:09:25.756434",
     "status": "completed"
    },
    "tags": []
   },
   "source": [
    "<h1 style=\"text-align:center;font-size:30px;\">Descriptive Statistics for Beginners</h1>\n",
    "\n",
    "<p style=\"font-family:cursive;font-size:17px;\"> \n",
    "    This notebook covers important descriptive statistics concepts with practical Python examples. Topics include:\n",
    "</p>\n",
    "\n",
    "<ul style=\"font-family:cursive;font-size:16px;\">\n",
    "    <li><a href=\"#Mean\">Mean</a></li>\n",
    "    <li><a href=\"#Median\">Median</a></li>\n",
    "    <li><a href=\"#Mode\">Mode</a></li>\n",
    "    <li><a href=\"#Range\">Range</a></li>\n",
    "    <li><a href=\"#Quantiles-and-Percentiles\">Quantiles and Percentiles</a></li>\n",
    "    <li><a href=\"#Interquartile-Range\">Interquartile Range</a></li>\n",
    "    <li><a href=\"#Standard-Deviation\">Standard Deviation</a></li>\n",
    "    <li><a href=\"#Histograms\">Histograms</a></li>\n",
    "    <li><a href=\"#Bar-Graphs\">Bar Graphs</a></li>\n",
    "    <li><a href=\"#Pie-Charts\">Pie Charts</a></li>\n",
    "    <li><a href=\"#Box-Plots\">Box Plots</a></li>\n",
    "</ul>\n",
    "    \n"
   ]
  },
  {
   "cell_type": "code",
   "execution_count": 1,
   "id": "979bd11a",
   "metadata": {
    "_cell_guid": "b1076dfc-b9ad-4769-8c92-a6c4dae69d19",
    "_uuid": "8f2839f25d086af736a60e9eeb907d3b93b6e0e5",
    "execution": {
     "iopub.execute_input": "2025-03-25T09:09:25.770824Z",
     "iopub.status.busy": "2025-03-25T09:09:25.770456Z",
     "iopub.status.idle": "2025-03-25T09:09:25.775598Z",
     "shell.execute_reply": "2025-03-25T09:09:25.774737Z"
    },
    "papermill": {
     "duration": 0.011604,
     "end_time": "2025-03-25T09:09:25.777208",
     "exception": false,
     "start_time": "2025-03-25T09:09:25.765604",
     "status": "completed"
    },
    "tags": []
   },
   "outputs": [],
   "source": [
    "import numpy as np "
   ]
  },
  {
   "cell_type": "markdown",
   "id": "f9eae734",
   "metadata": {
    "papermill": {
     "duration": 0.003623,
     "end_time": "2025-03-25T09:09:25.784987",
     "exception": false,
     "start_time": "2025-03-25T09:09:25.781364",
     "status": "completed"
    },
    "tags": []
   },
   "source": [
    "# Mean"
   ]
  },
  {
   "cell_type": "markdown",
   "id": "b3f68b82",
   "metadata": {
    "papermill": {
     "duration": 0.003613,
     "end_time": "2025-03-25T09:09:25.792424",
     "exception": false,
     "start_time": "2025-03-25T09:09:25.788811",
     "status": "completed"
    },
    "tags": []
   },
   "source": [
    "<p style=\"font-family:cursive;font-size:16px\">\n",
    "    The formula for the mean, $\\mathbf{\\bar{x}}$ is:\n",
    "</p>\n",
    "\n",
    "$$\n",
    "\\bar{x} = \\frac{\\sum x_i}{n}\n",
    "$$\n",
    "\n"
   ]
  },
  {
   "cell_type": "markdown",
   "id": "6b156fec",
   "metadata": {
    "papermill": {
     "duration": 0.003592,
     "end_time": "2025-03-25T09:09:25.799770",
     "exception": false,
     "start_time": "2025-03-25T09:09:25.796178",
     "status": "completed"
    },
    "tags": []
   },
   "source": [
    "<h1 style=\"text-align:center;font-size:20px;\">Or</h1>"
   ]
  },
  {
   "cell_type": "markdown",
   "id": "087a843f",
   "metadata": {
    "papermill": {
     "duration": 0.003551,
     "end_time": "2025-03-25T09:09:25.807215",
     "exception": false,
     "start_time": "2025-03-25T09:09:25.803664",
     "status": "completed"
    },
    "tags": []
   },
   "source": [
    "$$\n",
    "\\bar{x} = \\frac{1}{n}\\sum_{i=1}^n x_i\n",
    "$$"
   ]
  },
  {
   "cell_type": "code",
   "execution_count": 2,
   "id": "5e50471d",
   "metadata": {
    "execution": {
     "iopub.execute_input": "2025-03-25T09:09:25.816073Z",
     "iopub.status.busy": "2025-03-25T09:09:25.815733Z",
     "iopub.status.idle": "2025-03-25T09:09:25.821452Z",
     "shell.execute_reply": "2025-03-25T09:09:25.820373Z"
    },
    "papermill": {
     "duration": 0.012313,
     "end_time": "2025-03-25T09:09:25.823253",
     "exception": false,
     "start_time": "2025-03-25T09:09:25.810940",
     "status": "completed"
    },
    "tags": []
   },
   "outputs": [
    {
     "name": "stdout",
     "output_type": "stream",
     "text": [
      "Average of the array: 8.714285714285714\n"
     ]
    }
   ],
   "source": [
    "arr = np.array([4,8,12,9,10,3,15])\n",
    "\n",
    "mean = np.mean(arr)\n",
    "\n",
    "print(f\"Average of the array: {mean}\")"
   ]
  },
  {
   "cell_type": "markdown",
   "id": "7cf470de",
   "metadata": {
    "papermill": {
     "duration": 0.003669,
     "end_time": "2025-03-25T09:09:25.831063",
     "exception": false,
     "start_time": "2025-03-25T09:09:25.827394",
     "status": "completed"
    },
    "tags": []
   },
   "source": [
    "# Median"
   ]
  },
  {
   "cell_type": "markdown",
   "id": "cf39458b",
   "metadata": {
    "papermill": {
     "duration": 0.00372,
     "end_time": "2025-03-25T09:09:25.838626",
     "exception": false,
     "start_time": "2025-03-25T09:09:25.834906",
     "status": "completed"
    },
    "tags": []
   },
   "source": [
    "<p style=\"font-family:cursive;font-size:16px\">\n",
    "    The numbers in the array must be ordered before finding the median.\n",
    "</p>\n"
   ]
  },
  {
   "cell_type": "code",
   "execution_count": 3,
   "id": "82ba99b3",
   "metadata": {
    "execution": {
     "iopub.execute_input": "2025-03-25T09:09:25.847607Z",
     "iopub.status.busy": "2025-03-25T09:09:25.847238Z",
     "iopub.status.idle": "2025-03-25T09:09:25.855924Z",
     "shell.execute_reply": "2025-03-25T09:09:25.854944Z"
    },
    "papermill": {
     "duration": 0.015041,
     "end_time": "2025-03-25T09:09:25.857472",
     "exception": false,
     "start_time": "2025-03-25T09:09:25.842431",
     "status": "completed"
    },
    "tags": []
   },
   "outputs": [
    {
     "name": "stdout",
     "output_type": "stream",
     "text": [
      "[For Odd numbered array]\n",
      "Sorted array: [ 3  4  8  9 10 12 15]\n",
      "Median of the sorted array: 9.0\n"
     ]
    }
   ],
   "source": [
    "arr = np.array([4,8,12,9,10,3,15])\n",
    "arr = np.sort(arr)\n",
    "print(\"[For Odd numbered array]\")\n",
    "print(f\"Sorted array: {arr}\")\n",
    "\n",
    "median = np.median(arr)\n",
    "print(f\"Median of the sorted array: {median}\")"
   ]
  },
  {
   "cell_type": "code",
   "execution_count": 4,
   "id": "1d755a98",
   "metadata": {
    "execution": {
     "iopub.execute_input": "2025-03-25T09:09:25.867352Z",
     "iopub.status.busy": "2025-03-25T09:09:25.866977Z",
     "iopub.status.idle": "2025-03-25T09:09:25.873383Z",
     "shell.execute_reply": "2025-03-25T09:09:25.872492Z"
    },
    "papermill": {
     "duration": 0.012973,
     "end_time": "2025-03-25T09:09:25.874794",
     "exception": false,
     "start_time": "2025-03-25T09:09:25.861821",
     "status": "completed"
    },
    "tags": []
   },
   "outputs": [
    {
     "name": "stdout",
     "output_type": "stream",
     "text": [
      "[For Even numbered array]\n",
      "Sorted array: [ 3  4  8  9 10 12 15 16]\n",
      "Median of the sorted array: 9.5\n"
     ]
    }
   ],
   "source": [
    "arr = np.array([4,8,16,12,9,10,3,15])\n",
    "arr = np.sort(arr)\n",
    "print(\"[For Even numbered array]\")\n",
    "print(f\"Sorted array: {arr}\")\n",
    "\n",
    "median = np.median(arr)\n",
    "print(f\"Median of the sorted array: {median}\")"
   ]
  },
  {
   "cell_type": "markdown",
   "id": "8f487846",
   "metadata": {
    "papermill": {
     "duration": 0.003911,
     "end_time": "2025-03-25T09:09:25.883000",
     "exception": false,
     "start_time": "2025-03-25T09:09:25.879089",
     "status": "completed"
    },
    "tags": []
   },
   "source": [
    "# Mode"
   ]
  },
  {
   "cell_type": "markdown",
   "id": "09e30395",
   "metadata": {
    "papermill": {
     "duration": 0.003845,
     "end_time": "2025-03-25T09:09:25.891011",
     "exception": false,
     "start_time": "2025-03-25T09:09:25.887166",
     "status": "completed"
    },
    "tags": []
   },
   "source": [
    "<p style=\"font-family:cursive;font-size:16px\">\n",
    "    The value(s) that appears the most in the array is called the mode of that array. It shows where most of the data is located.\n",
    "    <br><br>\n",
    "    we need to use <strong>multimode()</strong> method to find the Mode of the array.\n",
    "</p>"
   ]
  },
  {
   "cell_type": "code",
   "execution_count": 5,
   "id": "e58eaa2e",
   "metadata": {
    "execution": {
     "iopub.execute_input": "2025-03-25T09:09:25.900622Z",
     "iopub.status.busy": "2025-03-25T09:09:25.900210Z",
     "iopub.status.idle": "2025-03-25T09:09:25.910458Z",
     "shell.execute_reply": "2025-03-25T09:09:25.909340Z"
    },
    "papermill": {
     "duration": 0.017011,
     "end_time": "2025-03-25T09:09:25.912084",
     "exception": false,
     "start_time": "2025-03-25T09:09:25.895073",
     "status": "completed"
    },
    "tags": []
   },
   "outputs": [
    {
     "name": "stdout",
     "output_type": "stream",
     "text": [
      "Mode(s) of the given array: [7, 12]\n"
     ]
    }
   ],
   "source": [
    "from statistics import multimode\n",
    "\n",
    "arr = np.array([4, 7, 3, 8, 11, 7, 10, 19, 6, 9, 12, 12])\n",
    "mode = multimode(arr)\n",
    "\n",
    "print(f\"Mode(s) of the given array: {mode}\")\n"
   ]
  },
  {
   "cell_type": "markdown",
   "id": "f9755fb2",
   "metadata": {
    "papermill": {
     "duration": 0.004338,
     "end_time": "2025-03-25T09:09:25.921272",
     "exception": false,
     "start_time": "2025-03-25T09:09:25.916934",
     "status": "completed"
    },
    "tags": []
   },
   "source": [
    "# Range"
   ]
  },
  {
   "cell_type": "markdown",
   "id": "a5efad87",
   "metadata": {
    "papermill": {
     "duration": 0.004367,
     "end_time": "2025-03-25T09:09:25.930221",
     "exception": false,
     "start_time": "2025-03-25T09:09:25.925854",
     "status": "completed"
    },
    "tags": []
   },
   "source": [
    "<p style=\"font-family:cursive;font-size:16px\">\n",
    "    The range is the difference between the highest and the lowest value of the data.\n",
    "    <br><br>\n",
    "    we need to use <strong>ptp()</strong> method to find range of the data.\n",
    "</p>"
   ]
  },
  {
   "cell_type": "code",
   "execution_count": 6,
   "id": "05431420",
   "metadata": {
    "execution": {
     "iopub.execute_input": "2025-03-25T09:09:25.940462Z",
     "iopub.status.busy": "2025-03-25T09:09:25.940086Z",
     "iopub.status.idle": "2025-03-25T09:09:25.946693Z",
     "shell.execute_reply": "2025-03-25T09:09:25.945653Z"
    },
    "papermill": {
     "duration": 0.013463,
     "end_time": "2025-03-25T09:09:25.948175",
     "exception": false,
     "start_time": "2025-03-25T09:09:25.934712",
     "status": "completed"
    },
    "tags": []
   },
   "outputs": [
    {
     "name": "stdout",
     "output_type": "stream",
     "text": [
      "Range of the given array: 13\n"
     ]
    }
   ],
   "source": [
    "arr = np.array([4,8,16,12,9,10,3,15])\n",
    "arr = np.sort(arr)\n",
    "\n",
    "range_arr = np.ptp(arr)\n",
    "\n",
    "print(f\"Range of the given array: {range_arr}\")"
   ]
  },
  {
   "cell_type": "markdown",
   "id": "22cf2cae",
   "metadata": {
    "papermill": {
     "duration": 0.00406,
     "end_time": "2025-03-25T09:09:25.956910",
     "exception": false,
     "start_time": "2025-03-25T09:09:25.952850",
     "status": "completed"
    },
    "tags": []
   },
   "source": [
    "<h1 style=\"text-align:center;font-size:25px;\">Quantiles and Percentiles</h1>"
   ]
  },
  {
   "cell_type": "markdown",
   "id": "01cf0f24",
   "metadata": {
    "papermill": {
     "duration": 0.004068,
     "end_time": "2025-03-25T09:09:25.965291",
     "exception": false,
     "start_time": "2025-03-25T09:09:25.961223",
     "status": "completed"
    },
    "tags": []
   },
   "source": [
    "<h1 style=\"text-align:center;font-size:25px;\">Interquartile Range</h1>"
   ]
  },
  {
   "cell_type": "markdown",
   "id": "a814aa64",
   "metadata": {
    "papermill": {
     "duration": 0.004164,
     "end_time": "2025-03-25T09:09:25.973902",
     "exception": false,
     "start_time": "2025-03-25T09:09:25.969738",
     "status": "completed"
    },
    "tags": []
   },
   "source": [
    "<h1 style=\"text-align:center;font-size:25px;\">Standard Deviation</h1>"
   ]
  },
  {
   "cell_type": "markdown",
   "id": "6eda1cd4",
   "metadata": {
    "papermill": {
     "duration": 0.004022,
     "end_time": "2025-03-25T09:09:25.982261",
     "exception": false,
     "start_time": "2025-03-25T09:09:25.978239",
     "status": "completed"
    },
    "tags": []
   },
   "source": [
    "<h1 style=\"text-align:center;font-size:25px;\">Histograms</h1>"
   ]
  },
  {
   "cell_type": "markdown",
   "id": "bc94e1af",
   "metadata": {
    "papermill": {
     "duration": 0.004075,
     "end_time": "2025-03-25T09:09:25.990654",
     "exception": false,
     "start_time": "2025-03-25T09:09:25.986579",
     "status": "completed"
    },
    "tags": []
   },
   "source": [
    "<h1 style=\"text-align:center;font-size:25px;\">Bar Graphs</h1>"
   ]
  },
  {
   "cell_type": "markdown",
   "id": "11875125",
   "metadata": {
    "papermill": {
     "duration": 0.004004,
     "end_time": "2025-03-25T09:09:25.999107",
     "exception": false,
     "start_time": "2025-03-25T09:09:25.995103",
     "status": "completed"
    },
    "tags": []
   },
   "source": [
    "<h1 style=\"text-align:center;font-size:25px;\">Pie Charts</h1>"
   ]
  },
  {
   "cell_type": "markdown",
   "id": "8fff34eb",
   "metadata": {
    "papermill": {
     "duration": 0.003946,
     "end_time": "2025-03-25T09:09:26.007277",
     "exception": false,
     "start_time": "2025-03-25T09:09:26.003331",
     "status": "completed"
    },
    "tags": []
   },
   "source": [
    "<h1 style=\"text-align:center;font-size:25px;\">Box Plots</h1>"
   ]
  }
 ],
 "metadata": {
  "kaggle": {
   "accelerator": "none",
   "dataSources": [],
   "dockerImageVersionId": 30918,
   "isGpuEnabled": false,
   "isInternetEnabled": true,
   "language": "python",
   "sourceType": "notebook"
  },
  "kernelspec": {
   "display_name": "Python 3",
   "language": "python",
   "name": "python3"
  },
  "language_info": {
   "codemirror_mode": {
    "name": "ipython",
    "version": 3
   },
   "file_extension": ".py",
   "mimetype": "text/x-python",
   "name": "python",
   "nbconvert_exporter": "python",
   "pygments_lexer": "ipython3",
   "version": "3.10.12"
  },
  "papermill": {
   "default_parameters": {},
   "duration": 3.335718,
   "end_time": "2025-03-25T09:09:26.429847",
   "environment_variables": {},
   "exception": null,
   "input_path": "__notebook__.ipynb",
   "output_path": "__notebook__.ipynb",
   "parameters": {},
   "start_time": "2025-03-25T09:09:23.094129",
   "version": "2.6.0"
  }
 },
 "nbformat": 4,
 "nbformat_minor": 5
}
