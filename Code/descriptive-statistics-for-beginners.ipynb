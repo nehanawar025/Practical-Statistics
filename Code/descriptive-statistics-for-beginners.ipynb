{
 "cells": [
  {
   "cell_type": "markdown",
   "id": "583d4f93",
   "metadata": {
    "papermill": {
     "duration": 0.004924,
     "end_time": "2025-03-24T17:32:12.699261",
     "exception": false,
     "start_time": "2025-03-24T17:32:12.694337",
     "status": "completed"
    },
    "tags": []
   },
   "source": [
    "<h1 style=\"text-align:center;font-size:30px;\">Descriptive Statistics for Beginners</h1>\n",
    "\n",
    "<p style=\"font-family:cursive;font-size:17px;\"> \n",
    "    This notebook covers important descriptive statistics concepts with practical Python examples. Topics include:\n",
    "</p>\n",
    "\n",
    "<ul style=\"font-family:cursive;font-size:16px;\">\n",
    "    <li><a href=\"#Mean\">Mean</a></li>\n",
    "    <li><a href=\"#Median\">Median</a></li>\n",
    "    <li><a href=\"#Mode\">Mode</a></li>\n",
    "    <li><a href=\"#Range\">Range</a></li>\n",
    "    <li><a href=\"#Quantiles-and-Percentiles\">Quantiles and Percentiles</a></li>\n",
    "    <li><a href=\"#Interquartile-Range\">Interquartile Range</a></li>\n",
    "    <li><a href=\"#Standard-Deviation\">Standard Deviation</a></li>\n",
    "    <li><a href=\"#Histograms\">Histograms</a></li>\n",
    "    <li><a href=\"#Bar-Graphs\">Bar Graphs</a></li>\n",
    "    <li><a href=\"#Pie-Charts\">Pie Charts</a></li>\n",
    "    <li><a href=\"#Box-Plots\">Box Plots</a></li>\n",
    "</ul>\n",
    "    \n"
   ]
  },
  {
   "cell_type": "code",
   "execution_count": 1,
   "id": "6c908ab4",
   "metadata": {
    "_cell_guid": "b1076dfc-b9ad-4769-8c92-a6c4dae69d19",
    "_uuid": "8f2839f25d086af736a60e9eeb907d3b93b6e0e5",
    "execution": {
     "iopub.execute_input": "2025-03-24T17:32:12.709348Z",
     "iopub.status.busy": "2025-03-24T17:32:12.708872Z",
     "iopub.status.idle": "2025-03-24T17:32:12.714583Z",
     "shell.execute_reply": "2025-03-24T17:32:12.713676Z"
    },
    "papermill": {
     "duration": 0.012507,
     "end_time": "2025-03-24T17:32:12.716176",
     "exception": false,
     "start_time": "2025-03-24T17:32:12.703669",
     "status": "completed"
    },
    "tags": []
   },
   "outputs": [],
   "source": [
    "import numpy as np "
   ]
  },
  {
   "cell_type": "markdown",
   "id": "f5476c9a",
   "metadata": {
    "papermill": {
     "duration": 0.003871,
     "end_time": "2025-03-24T17:32:12.724557",
     "exception": false,
     "start_time": "2025-03-24T17:32:12.720686",
     "status": "completed"
    },
    "tags": []
   },
   "source": [
    "<h1 style=\"text-align:center;font-size:25px;\">Mean</h1>"
   ]
  },
  {
   "cell_type": "markdown",
   "id": "1ffbc694",
   "metadata": {
    "papermill": {
     "duration": 0.003867,
     "end_time": "2025-03-24T17:32:12.732612",
     "exception": false,
     "start_time": "2025-03-24T17:32:12.728745",
     "status": "completed"
    },
    "tags": []
   },
   "source": [
    "<p style=\"font-family:cursive;font-size:16px\">\n",
    "    The formula for the mean, $\\mathbf{\\bar{x}}$ is:\n",
    "</p>\n",
    "\n",
    "$$\n",
    "\\bar{x} = \\frac{\\sum x_i}{n}\n",
    "$$\n",
    "\n"
   ]
  },
  {
   "cell_type": "markdown",
   "id": "799fdcea",
   "metadata": {
    "papermill": {
     "duration": 0.003786,
     "end_time": "2025-03-24T17:32:12.740598",
     "exception": false,
     "start_time": "2025-03-24T17:32:12.736812",
     "status": "completed"
    },
    "tags": []
   },
   "source": [
    "<h1 style=\"text-align:center;font-size:20px;\">Or</h1>"
   ]
  },
  {
   "cell_type": "markdown",
   "id": "8c717f1b",
   "metadata": {
    "papermill": {
     "duration": 0.003826,
     "end_time": "2025-03-24T17:32:12.748490",
     "exception": false,
     "start_time": "2025-03-24T17:32:12.744664",
     "status": "completed"
    },
    "tags": []
   },
   "source": [
    "$$\n",
    "\\bar{x} = \\frac{1}{n}\\sum_{i=1}^n x_i\n",
    "$$"
   ]
  },
  {
   "cell_type": "code",
   "execution_count": 2,
   "id": "d09f9c6a",
   "metadata": {
    "execution": {
     "iopub.execute_input": "2025-03-24T17:32:12.757891Z",
     "iopub.status.busy": "2025-03-24T17:32:12.757523Z",
     "iopub.status.idle": "2025-03-24T17:32:12.763504Z",
     "shell.execute_reply": "2025-03-24T17:32:12.762055Z"
    },
    "papermill": {
     "duration": 0.012639,
     "end_time": "2025-03-24T17:32:12.765242",
     "exception": false,
     "start_time": "2025-03-24T17:32:12.752603",
     "status": "completed"
    },
    "tags": []
   },
   "outputs": [
    {
     "name": "stdout",
     "output_type": "stream",
     "text": [
      "Average of the array: 8.714285714285714\n"
     ]
    }
   ],
   "source": [
    "arr = np.array([4,8,12,9,10,3,15])\n",
    "\n",
    "mean = np.mean(arr)\n",
    "\n",
    "print(f\"Average of the array: {mean}\")"
   ]
  },
  {
   "cell_type": "markdown",
   "id": "04e9c1e0",
   "metadata": {
    "papermill": {
     "duration": 0.004549,
     "end_time": "2025-03-24T17:32:12.774165",
     "exception": false,
     "start_time": "2025-03-24T17:32:12.769616",
     "status": "completed"
    },
    "tags": []
   },
   "source": [
    "<h1 style=\"text-align:center;font-size:25px;\">Median</h1>"
   ]
  },
  {
   "cell_type": "markdown",
   "id": "13ce0f06",
   "metadata": {
    "papermill": {
     "duration": 0.004236,
     "end_time": "2025-03-24T17:32:12.782817",
     "exception": false,
     "start_time": "2025-03-24T17:32:12.778581",
     "status": "completed"
    },
    "tags": []
   },
   "source": [
    "<p style=\"font-family:cursive;font-size:16px\">\n",
    "    The numbers in the array must be ordered before finding the median.\n",
    "</p>"
   ]
  },
  {
   "cell_type": "code",
   "execution_count": 3,
   "id": "3568f4d9",
   "metadata": {
    "execution": {
     "iopub.execute_input": "2025-03-24T17:32:12.792786Z",
     "iopub.status.busy": "2025-03-24T17:32:12.792435Z",
     "iopub.status.idle": "2025-03-24T17:32:12.801792Z",
     "shell.execute_reply": "2025-03-24T17:32:12.800695Z"
    },
    "papermill": {
     "duration": 0.016407,
     "end_time": "2025-03-24T17:32:12.803554",
     "exception": false,
     "start_time": "2025-03-24T17:32:12.787147",
     "status": "completed"
    },
    "tags": []
   },
   "outputs": [
    {
     "name": "stdout",
     "output_type": "stream",
     "text": [
      "[For Odd numbered]\n",
      "Sorted array: [ 3  4  8  9 10 12 15]\n",
      "Median of the sorted array: 9.0\n"
     ]
    }
   ],
   "source": [
    "arr = np.array([4,8,12,9,10,3,15])\n",
    "arr = np.sort(arr)\n",
    "print(\"[For Odd numbered]\")\n",
    "print(f\"Sorted array: {arr}\")\n",
    "\n",
    "median = np.median(arr)\n",
    "print(f\"Median of the sorted array: {median}\")"
   ]
  },
  {
   "cell_type": "code",
   "execution_count": 4,
   "id": "ed6da0dc",
   "metadata": {
    "execution": {
     "iopub.execute_input": "2025-03-24T17:32:12.814086Z",
     "iopub.status.busy": "2025-03-24T17:32:12.813650Z",
     "iopub.status.idle": "2025-03-24T17:32:12.820816Z",
     "shell.execute_reply": "2025-03-24T17:32:12.819681Z"
    },
    "papermill": {
     "duration": 0.014199,
     "end_time": "2025-03-24T17:32:12.822440",
     "exception": false,
     "start_time": "2025-03-24T17:32:12.808241",
     "status": "completed"
    },
    "tags": []
   },
   "outputs": [
    {
     "name": "stdout",
     "output_type": "stream",
     "text": [
      "[For Even numbered]\n",
      "Sorted array: [ 3  4  8  9 10 12 15 16]\n",
      "Median of the sorted array: 9.5\n"
     ]
    }
   ],
   "source": [
    "arr = np.array([4,8,16,12,9,10,3,15])\n",
    "arr = np.sort(arr)\n",
    "print(\"[For Even numbered]\")\n",
    "print(f\"Sorted array: {arr}\")\n",
    "\n",
    "median = np.median(arr)\n",
    "print(f\"Median of the sorted array: {median}\")"
   ]
  },
  {
   "cell_type": "markdown",
   "id": "9194f381",
   "metadata": {
    "papermill": {
     "duration": 0.003969,
     "end_time": "2025-03-24T17:32:12.831055",
     "exception": false,
     "start_time": "2025-03-24T17:32:12.827086",
     "status": "completed"
    },
    "tags": []
   },
   "source": [
    "<h1 style=\"text-align:center;font-size:25px;\">Mode</h1>"
   ]
  },
  {
   "cell_type": "markdown",
   "id": "58af3ee6",
   "metadata": {
    "papermill": {
     "duration": 0.003912,
     "end_time": "2025-03-24T17:32:12.839170",
     "exception": false,
     "start_time": "2025-03-24T17:32:12.835258",
     "status": "completed"
    },
    "tags": []
   },
   "source": [
    "<p style=\"font-family:cursive;font-size:16px\">\n",
    "    The value(s) that appears the most in the array is called the mode of that array. It shows where most of the data is located.\n",
    "    <br><br>\n",
    "    we need to use <strong>multimode()</strong> method to find the Mode of the array.\n",
    "</p>"
   ]
  },
  {
   "cell_type": "code",
   "execution_count": 5,
   "id": "c8d74063",
   "metadata": {
    "execution": {
     "iopub.execute_input": "2025-03-24T17:32:12.849169Z",
     "iopub.status.busy": "2025-03-24T17:32:12.848811Z",
     "iopub.status.idle": "2025-03-24T17:32:12.858061Z",
     "shell.execute_reply": "2025-03-24T17:32:12.856823Z"
    },
    "papermill": {
     "duration": 0.016348,
     "end_time": "2025-03-24T17:32:12.859830",
     "exception": false,
     "start_time": "2025-03-24T17:32:12.843482",
     "status": "completed"
    },
    "tags": []
   },
   "outputs": [
    {
     "name": "stdout",
     "output_type": "stream",
     "text": [
      "Mode(s) of the given array: [7, 12]\n"
     ]
    }
   ],
   "source": [
    "from statistics import multimode\n",
    "\n",
    "arr = np.array([4, 7, 3, 8, 11, 7, 10, 19, 6, 9, 12, 12])\n",
    "mode = multimode(arr)\n",
    "\n",
    "print(f\"Mode(s) of the given array: {mode}\")\n"
   ]
  },
  {
   "cell_type": "markdown",
   "id": "5e993f9d",
   "metadata": {
    "papermill": {
     "duration": 0.004121,
     "end_time": "2025-03-24T17:32:12.868655",
     "exception": false,
     "start_time": "2025-03-24T17:32:12.864534",
     "status": "completed"
    },
    "tags": []
   },
   "source": [
    "<h1 style=\"text-align:center;font-size:25px;\">Range</h1>"
   ]
  },
  {
   "cell_type": "markdown",
   "id": "506872bc",
   "metadata": {
    "papermill": {
     "duration": 0.004032,
     "end_time": "2025-03-24T17:32:12.877343",
     "exception": false,
     "start_time": "2025-03-24T17:32:12.873311",
     "status": "completed"
    },
    "tags": []
   },
   "source": [
    "<p style=\"font-family:cursive;font-size:16px\">\n",
    "    The range is the difference between the highest and the lowest value of the data.\n",
    "    <br><br>\n",
    "    we need to use <strong>ptp()</strong> method to find range of the data.\n",
    "</p>"
   ]
  },
  {
   "cell_type": "code",
   "execution_count": 6,
   "id": "f2c4ff41",
   "metadata": {
    "execution": {
     "iopub.execute_input": "2025-03-24T17:32:12.887475Z",
     "iopub.status.busy": "2025-03-24T17:32:12.887126Z",
     "iopub.status.idle": "2025-03-24T17:32:12.894489Z",
     "shell.execute_reply": "2025-03-24T17:32:12.893438Z"
    },
    "papermill": {
     "duration": 0.014286,
     "end_time": "2025-03-24T17:32:12.896053",
     "exception": false,
     "start_time": "2025-03-24T17:32:12.881767",
     "status": "completed"
    },
    "tags": []
   },
   "outputs": [
    {
     "name": "stdout",
     "output_type": "stream",
     "text": [
      "Range of the given array: 13\n"
     ]
    }
   ],
   "source": [
    "arr = np.array([4,8,16,12,9,10,3,15])\n",
    "arr = np.sort(arr)\n",
    "\n",
    "range_arr = np.ptp(arr)\n",
    "\n",
    "print(f\"Range of the given array: {range_arr}\")"
   ]
  },
  {
   "cell_type": "markdown",
   "id": "59ac32e4",
   "metadata": {
    "papermill": {
     "duration": 0.004418,
     "end_time": "2025-03-24T17:32:12.905067",
     "exception": false,
     "start_time": "2025-03-24T17:32:12.900649",
     "status": "completed"
    },
    "tags": []
   },
   "source": [
    "<h1 style=\"text-align:center;font-size:25px;\">Quantiles and Percentiles</h1>"
   ]
  },
  {
   "cell_type": "markdown",
   "id": "26de2bde",
   "metadata": {
    "papermill": {
     "duration": 0.004308,
     "end_time": "2025-03-24T17:32:12.913819",
     "exception": false,
     "start_time": "2025-03-24T17:32:12.909511",
     "status": "completed"
    },
    "tags": []
   },
   "source": [
    "<h1 style=\"text-align:center;font-size:25px;\">Interquartile Range</h1>"
   ]
  },
  {
   "cell_type": "markdown",
   "id": "185c80c3",
   "metadata": {
    "papermill": {
     "duration": 0.004299,
     "end_time": "2025-03-24T17:32:12.922529",
     "exception": false,
     "start_time": "2025-03-24T17:32:12.918230",
     "status": "completed"
    },
    "tags": []
   },
   "source": [
    "<h1 style=\"text-align:center;font-size:25px;\">Standard Deviation</h1>"
   ]
  },
  {
   "cell_type": "markdown",
   "id": "dd4e6707",
   "metadata": {
    "papermill": {
     "duration": 0.004124,
     "end_time": "2025-03-24T17:32:12.931177",
     "exception": false,
     "start_time": "2025-03-24T17:32:12.927053",
     "status": "completed"
    },
    "tags": []
   },
   "source": [
    "<h1 style=\"text-align:center;font-size:25px;\">Histograms</h1>"
   ]
  },
  {
   "cell_type": "markdown",
   "id": "3c50bd94",
   "metadata": {
    "papermill": {
     "duration": 0.004239,
     "end_time": "2025-03-24T17:32:12.939911",
     "exception": false,
     "start_time": "2025-03-24T17:32:12.935672",
     "status": "completed"
    },
    "tags": []
   },
   "source": [
    "<h1 style=\"text-align:center;font-size:25px;\">Bar Graphs</h1>"
   ]
  },
  {
   "cell_type": "markdown",
   "id": "0e596940",
   "metadata": {
    "papermill": {
     "duration": 0.004135,
     "end_time": "2025-03-24T17:32:12.948464",
     "exception": false,
     "start_time": "2025-03-24T17:32:12.944329",
     "status": "completed"
    },
    "tags": []
   },
   "source": [
    "<h1 style=\"text-align:center;font-size:25px;\">Pie Charts</h1>"
   ]
  },
  {
   "cell_type": "markdown",
   "id": "e5ca85a6",
   "metadata": {
    "papermill": {
     "duration": 0.004332,
     "end_time": "2025-03-24T17:32:12.957158",
     "exception": false,
     "start_time": "2025-03-24T17:32:12.952826",
     "status": "completed"
    },
    "tags": []
   },
   "source": [
    "<h1 style=\"text-align:center;font-size:25px;\">Box Plots</h1>"
   ]
  }
 ],
 "metadata": {
  "kaggle": {
   "accelerator": "none",
   "dataSources": [],
   "dockerImageVersionId": 30918,
   "isGpuEnabled": false,
   "isInternetEnabled": true,
   "language": "python",
   "sourceType": "notebook"
  },
  "kernelspec": {
   "display_name": "Python 3",
   "language": "python",
   "name": "python3"
  },
  "language_info": {
   "codemirror_mode": {
    "name": "ipython",
    "version": 3
   },
   "file_extension": ".py",
   "mimetype": "text/x-python",
   "name": "python",
   "nbconvert_exporter": "python",
   "pygments_lexer": "ipython3",
   "version": "3.10.12"
  },
  "papermill": {
   "default_parameters": {},
   "duration": 3.755979,
   "end_time": "2025-03-24T17:32:13.481356",
   "environment_variables": {},
   "exception": null,
   "input_path": "__notebook__.ipynb",
   "output_path": "__notebook__.ipynb",
   "parameters": {},
   "start_time": "2025-03-24T17:32:09.725377",
   "version": "2.6.0"
  }
 },
 "nbformat": 4,
 "nbformat_minor": 5
}
