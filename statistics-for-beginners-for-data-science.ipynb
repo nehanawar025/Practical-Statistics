{
 "cells": [
  {
   "cell_type": "markdown",
   "id": "123db43b",
   "metadata": {
    "papermill": {
     "duration": 0.002358,
     "end_time": "2025-03-22T19:39:01.540087",
     "exception": false,
     "start_time": "2025-03-22T19:39:01.537729",
     "status": "completed"
    },
    "tags": []
   },
   "source": [
    "<font size=\"5.5\">\n",
    "In this notebook, I will discuss all the things I learned from various blogs and videos. So, this is a one-stop resource for learning statistics.\n",
    "First, I will break down some standard terms that someone may encounter while reviewing any statistics resource. Then, I will go deeper into the two types of statistics: descriptive statistics and Inferential statistics.\n",
    "</font>"
   ]
  },
  {
   "cell_type": "markdown",
   "id": "0d7e8017",
   "metadata": {
    "papermill": {
     "duration": 0.001634,
     "end_time": "2025-03-22T19:39:01.543755",
     "exception": false,
     "start_time": "2025-03-22T19:39:01.542121",
     "status": "completed"
    },
    "tags": []
   },
   "source": [
    "## What is a sample in statistics?\n",
    "\n",
    "<font size=\"4.5\">\n",
    "The sample is representative of the population. Suppose, we want information about the people in Bangladesh. But it is not possible for us to get the information about all the people in Bangladesh. So Sample can help us with this. Sampling is where we can take information from people with different ages, professions, etc. all over Bangladesh. That's how it will be a good sample of all the population of Bangladesh.\n",
    "</font>\n"
   ]
  },
  {
   "cell_type": "markdown",
   "id": "2cdb8187",
   "metadata": {
    "papermill": {
     "duration": 0.001404,
     "end_time": "2025-03-22T19:39:01.546851",
     "exception": false,
     "start_time": "2025-03-22T19:39:01.545447",
     "status": "completed"
    },
    "tags": []
   },
   "source": [
    "## What is statistical inference?\n",
    "<font size=\"4.5\">\n",
    "Statistical inference is using a sample from a population to make a conclusion about that population.\n",
    "Suppose there is a bowl of candies, and we have to figure out how many red candies are there. But we can't find out just by looking at the bowl. Instead, we can take a small handful (the sample) and count the red ones in that handful. Based on that, we can make a guess about how many red candies are in the whole bowl. This is statistical inference.\n",
    "</font>\n"
   ]
  },
  {
   "cell_type": "markdown",
   "id": "ffc4e072",
   "metadata": {
    "papermill": {
     "duration": 0.001441,
     "end_time": "2025-03-22T19:39:01.549987",
     "exception": false,
     "start_time": "2025-03-22T19:39:01.548546",
     "status": "completed"
    },
    "tags": []
   },
   "source": [
    "## Probability theory\n",
    "\n",
    "<font size=\"4.5\">\n",
    "    We can't be 100% sure just by looking at a handful of candies. <strong>Probability theory</strong> helps us to be confident in that guess. For example, we can say, \"There is a 95% chance that the true number of red candies is between 20 and 30.\"\n",
    "</font>"
   ]
  },
  {
   "cell_type": "markdown",
   "id": "7a85a6c6",
   "metadata": {
    "papermill": {
     "duration": 0.001415,
     "end_time": "2025-03-22T19:39:01.553005",
     "exception": false,
     "start_time": "2025-03-22T19:39:01.551590",
     "status": "completed"
    },
    "tags": []
   },
   "source": [
    "## Causal inference\n",
    "\n",
    "<font size=\"4.5\">\n",
    "    Causal inference is about figuring out if one thing causes another.\n",
    "    For example, \"Does studying improve grades?\" If two things are related, we can see if they correlate or not.\n",
    "    But correlation doesn't mean causation. No one really needs to work hard for grades; he can also cheat to get good  grades! Finding out if something is caused by other things, can be done with good experimental design or other special statistical techniques.\n",
    "</font>\n"
   ]
  }
 ],
 "metadata": {
  "kaggle": {
   "accelerator": "none",
   "dataSources": [],
   "dockerImageVersionId": 30918,
   "isGpuEnabled": false,
   "isInternetEnabled": true,
   "language": "python",
   "sourceType": "notebook"
  },
  "kernelspec": {
   "display_name": "Python 3",
   "language": "python",
   "name": "python3"
  },
  "language_info": {
   "codemirror_mode": {
    "name": "ipython",
    "version": 3
   },
   "file_extension": ".py",
   "mimetype": "text/x-python",
   "name": "python",
   "nbconvert_exporter": "python",
   "pygments_lexer": "ipython3",
   "version": "3.10.12"
  },
  "papermill": {
   "default_parameters": {},
   "duration": 3.554324,
   "end_time": "2025-03-22T19:39:01.974557",
   "environment_variables": {},
   "exception": null,
   "input_path": "__notebook__.ipynb",
   "output_path": "__notebook__.ipynb",
   "parameters": {},
   "start_time": "2025-03-22T19:38:58.420233",
   "version": "2.6.0"
  }
 },
 "nbformat": 4,
 "nbformat_minor": 5
}
